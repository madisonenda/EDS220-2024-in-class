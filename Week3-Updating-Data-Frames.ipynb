{
 "cells": [
  {
   "cell_type": "markdown",
   "id": "2b1f7a40-2c9c-4043-8f3a-12cc2197bbdc",
   "metadata": {},
   "source": [
    "# Updating Data Frames\n",
    "\n",
    "We will go over methods for updating a `pandas.DataFrame` using Palmers Penguins\n",
    "\n",
    "\n",
    "## Adding a single column ...\n",
    "\n",
    "Start by importing packages and data."
   ]
  },
  {
   "cell_type": "code",
   "execution_count": 1,
   "id": "029a438e-13d9-4fe2-96fe-d32b99b112c6",
   "metadata": {
    "tags": []
   },
   "outputs": [],
   "source": [
    "import numpy as np\n",
    "import pandas as pd\n",
    "import random # Used for randomly generated numbers\n",
    "\n",
    "# Set random seed\n",
    "random.seed(42)"
   ]
  },
  {
   "cell_type": "code",
   "execution_count": 4,
   "id": "313efb76-8112-465f-9801-29cd8ac58e0b",
   "metadata": {
    "tags": []
   },
   "outputs": [],
   "source": [
    "# Import Data\n",
    "URL = 'https://raw.githubusercontent.com/allisonhorst/palmerpenguins/main/inst/extdata/penguins.csv'\n",
    "penguins = pd.read_csv(URL)"
   ]
  },
  {
   "cell_type": "markdown",
   "id": "fa83d4b3-9c61-4891-b074-d5b42fee4402",
   "metadata": {},
   "source": [
    "## Using dictionary like syntax\n",
    "\n",
    "Simplest way to add a new column to a Data Frame\n",
    "\n",
    "```\n",
    "df['new_col_name']= new_column_values \n",
    "```\n",
    "If the column name exists, then the existing column will be updated. The syntax is the same, we simply reassign the variable to a new name. "
   ]
  },
  {
   "cell_type": "code",
   "execution_count": 5,
   "id": "285225e5-fa6c-4f19-8e84-b25b2b678213",
   "metadata": {
    "tags": []
   },
   "outputs": [
    {
     "data": {
      "text/html": [
       "<div>\n",
       "<style scoped>\n",
       "    .dataframe tbody tr th:only-of-type {\n",
       "        vertical-align: middle;\n",
       "    }\n",
       "\n",
       "    .dataframe tbody tr th {\n",
       "        vertical-align: top;\n",
       "    }\n",
       "\n",
       "    .dataframe thead th {\n",
       "        text-align: right;\n",
       "    }\n",
       "</style>\n",
       "<table border=\"1\" class=\"dataframe\">\n",
       "  <thead>\n",
       "    <tr style=\"text-align: right;\">\n",
       "      <th></th>\n",
       "      <th>species</th>\n",
       "      <th>island</th>\n",
       "      <th>bill_length_mm</th>\n",
       "      <th>bill_depth_mm</th>\n",
       "      <th>flipper_length_mm</th>\n",
       "      <th>body_mass_g</th>\n",
       "      <th>sex</th>\n",
       "      <th>year</th>\n",
       "    </tr>\n",
       "  </thead>\n",
       "  <tbody>\n",
       "    <tr>\n",
       "      <th>0</th>\n",
       "      <td>Adelie</td>\n",
       "      <td>Torgersen</td>\n",
       "      <td>39.1</td>\n",
       "      <td>18.7</td>\n",
       "      <td>181.0</td>\n",
       "      <td>3750.0</td>\n",
       "      <td>male</td>\n",
       "      <td>2007</td>\n",
       "    </tr>\n",
       "    <tr>\n",
       "      <th>1</th>\n",
       "      <td>Adelie</td>\n",
       "      <td>Torgersen</td>\n",
       "      <td>39.5</td>\n",
       "      <td>17.4</td>\n",
       "      <td>186.0</td>\n",
       "      <td>3800.0</td>\n",
       "      <td>female</td>\n",
       "      <td>2007</td>\n",
       "    </tr>\n",
       "    <tr>\n",
       "      <th>2</th>\n",
       "      <td>Adelie</td>\n",
       "      <td>Torgersen</td>\n",
       "      <td>40.3</td>\n",
       "      <td>18.0</td>\n",
       "      <td>195.0</td>\n",
       "      <td>3250.0</td>\n",
       "      <td>female</td>\n",
       "      <td>2007</td>\n",
       "    </tr>\n",
       "    <tr>\n",
       "      <th>3</th>\n",
       "      <td>Adelie</td>\n",
       "      <td>Torgersen</td>\n",
       "      <td>NaN</td>\n",
       "      <td>NaN</td>\n",
       "      <td>NaN</td>\n",
       "      <td>NaN</td>\n",
       "      <td>NaN</td>\n",
       "      <td>2007</td>\n",
       "    </tr>\n",
       "    <tr>\n",
       "      <th>4</th>\n",
       "      <td>Adelie</td>\n",
       "      <td>Torgersen</td>\n",
       "      <td>36.7</td>\n",
       "      <td>19.3</td>\n",
       "      <td>193.0</td>\n",
       "      <td>3450.0</td>\n",
       "      <td>female</td>\n",
       "      <td>2007</td>\n",
       "    </tr>\n",
       "  </tbody>\n",
       "</table>\n",
       "</div>"
      ],
      "text/plain": [
       "  species     island  bill_length_mm  bill_depth_mm  flipper_length_mm  \\\n",
       "0  Adelie  Torgersen            39.1           18.7              181.0   \n",
       "1  Adelie  Torgersen            39.5           17.4              186.0   \n",
       "2  Adelie  Torgersen            40.3           18.0              195.0   \n",
       "3  Adelie  Torgersen             NaN            NaN                NaN   \n",
       "4  Adelie  Torgersen            36.7           19.3              193.0   \n",
       "\n",
       "   body_mass_g     sex  year  \n",
       "0       3750.0    male  2007  \n",
       "1       3800.0  female  2007  \n",
       "2       3250.0  female  2007  \n",
       "3          NaN     NaN  2007  \n",
       "4       3450.0  female  2007  "
      ]
     },
     "execution_count": 5,
     "metadata": {},
     "output_type": "execute_result"
    }
   ],
   "source": [
    "penguins.head()"
   ]
  },
  {
   "cell_type": "markdown",
   "id": "18834525-fde7-4870-ab5a-b6ea666d88ba",
   "metadata": {},
   "source": [
    "## Example\n",
    "\n",
    "Create a new column where the body mass is in kg instead of grams\n"
   ]
  },
  {
   "cell_type": "code",
   "execution_count": 6,
   "id": "a47bdb31-725e-4f60-ad3f-cdaf08675b7b",
   "metadata": {
    "tags": []
   },
   "outputs": [],
   "source": [
    "# Add a new column body_mass_kg\n",
    "penguins['body_mass_kg']= penguins['body_mass_g']/1000"
   ]
  },
  {
   "cell_type": "code",
   "execution_count": 8,
   "id": "d96b3c2c-b35d-41d9-af17-a00af04f4263",
   "metadata": {
    "tags": []
   },
   "outputs": [
    {
     "name": "stdout",
     "output_type": "stream",
     "text": [
      "True\n"
     ]
    },
    {
     "data": {
      "text/html": [
       "<div>\n",
       "<style scoped>\n",
       "    .dataframe tbody tr th:only-of-type {\n",
       "        vertical-align: middle;\n",
       "    }\n",
       "\n",
       "    .dataframe tbody tr th {\n",
       "        vertical-align: top;\n",
       "    }\n",
       "\n",
       "    .dataframe thead th {\n",
       "        text-align: right;\n",
       "    }\n",
       "</style>\n",
       "<table border=\"1\" class=\"dataframe\">\n",
       "  <thead>\n",
       "    <tr style=\"text-align: right;\">\n",
       "      <th></th>\n",
       "      <th>species</th>\n",
       "      <th>island</th>\n",
       "      <th>bill_length_mm</th>\n",
       "      <th>bill_depth_mm</th>\n",
       "      <th>flipper_length_mm</th>\n",
       "      <th>body_mass_g</th>\n",
       "      <th>sex</th>\n",
       "      <th>year</th>\n",
       "      <th>body_mass_kg</th>\n",
       "    </tr>\n",
       "  </thead>\n",
       "  <tbody>\n",
       "    <tr>\n",
       "      <th>0</th>\n",
       "      <td>Adelie</td>\n",
       "      <td>Torgersen</td>\n",
       "      <td>39.1</td>\n",
       "      <td>18.7</td>\n",
       "      <td>181.0</td>\n",
       "      <td>3750.0</td>\n",
       "      <td>male</td>\n",
       "      <td>2007</td>\n",
       "      <td>3.75</td>\n",
       "    </tr>\n",
       "    <tr>\n",
       "      <th>1</th>\n",
       "      <td>Adelie</td>\n",
       "      <td>Torgersen</td>\n",
       "      <td>39.5</td>\n",
       "      <td>17.4</td>\n",
       "      <td>186.0</td>\n",
       "      <td>3800.0</td>\n",
       "      <td>female</td>\n",
       "      <td>2007</td>\n",
       "      <td>3.80</td>\n",
       "    </tr>\n",
       "    <tr>\n",
       "      <th>2</th>\n",
       "      <td>Adelie</td>\n",
       "      <td>Torgersen</td>\n",
       "      <td>40.3</td>\n",
       "      <td>18.0</td>\n",
       "      <td>195.0</td>\n",
       "      <td>3250.0</td>\n",
       "      <td>female</td>\n",
       "      <td>2007</td>\n",
       "      <td>3.25</td>\n",
       "    </tr>\n",
       "    <tr>\n",
       "      <th>3</th>\n",
       "      <td>Adelie</td>\n",
       "      <td>Torgersen</td>\n",
       "      <td>NaN</td>\n",
       "      <td>NaN</td>\n",
       "      <td>NaN</td>\n",
       "      <td>NaN</td>\n",
       "      <td>NaN</td>\n",
       "      <td>2007</td>\n",
       "      <td>NaN</td>\n",
       "    </tr>\n",
       "    <tr>\n",
       "      <th>4</th>\n",
       "      <td>Adelie</td>\n",
       "      <td>Torgersen</td>\n",
       "      <td>36.7</td>\n",
       "      <td>19.3</td>\n",
       "      <td>193.0</td>\n",
       "      <td>3450.0</td>\n",
       "      <td>female</td>\n",
       "      <td>2007</td>\n",
       "      <td>3.45</td>\n",
       "    </tr>\n",
       "  </tbody>\n",
       "</table>\n",
       "</div>"
      ],
      "text/plain": [
       "  species     island  bill_length_mm  bill_depth_mm  flipper_length_mm  \\\n",
       "0  Adelie  Torgersen            39.1           18.7              181.0   \n",
       "1  Adelie  Torgersen            39.5           17.4              186.0   \n",
       "2  Adelie  Torgersen            40.3           18.0              195.0   \n",
       "3  Adelie  Torgersen             NaN            NaN                NaN   \n",
       "4  Adelie  Torgersen            36.7           19.3              193.0   \n",
       "\n",
       "   body_mass_g     sex  year  body_mass_kg  \n",
       "0       3750.0    male  2007          3.75  \n",
       "1       3800.0  female  2007          3.80  \n",
       "2       3250.0  female  2007          3.25  \n",
       "3          NaN     NaN  2007           NaN  \n",
       "4       3450.0  female  2007          3.45  "
      ]
     },
     "execution_count": 8,
     "metadata": {},
     "output_type": "execute_result"
    }
   ],
   "source": [
    "# Confirm the new column is in the data frame \n",
    "print('body_mass_kg' in penguins.columns)\n",
    "\n",
    "# Look at the new column\n",
    "penguins.head()"
   ]
  },
  {
   "cell_type": "markdown",
   "id": "3a40a77b-57cf-428b-aef6-0a9ee156753d",
   "metadata": {},
   "source": [
    "## Using the `assign()` method\n",
    "\n",
    "We can also create or update an existing column using `assign()`:\n",
    "\n",
    "```\n",
    "df= df.assign(new_col_name= new_column_value)\n",
    "```"
   ]
  },
  {
   "cell_type": "markdown",
   "id": "676c41f7-0d16-468e-83ae-fef8bef96139",
   "metadata": {},
   "source": [
    "## Example\n",
    "\n",
    "Give each penguin observation a unique identifier as a three digit number, add this column at the beginning of the data frame"
   ]
  },
  {
   "cell_type": "code",
   "execution_count": 13,
   "id": "1a0ac00d-6c0d-4831-ab4a-f2bddfdab5df",
   "metadata": {
    "tags": []
   },
   "outputs": [
    {
     "data": {
      "text/html": [
       "<div>\n",
       "<style scoped>\n",
       "    .dataframe tbody tr th:only-of-type {\n",
       "        vertical-align: middle;\n",
       "    }\n",
       "\n",
       "    .dataframe tbody tr th {\n",
       "        vertical-align: top;\n",
       "    }\n",
       "\n",
       "    .dataframe thead th {\n",
       "        text-align: right;\n",
       "    }\n",
       "</style>\n",
       "<table border=\"1\" class=\"dataframe\">\n",
       "  <thead>\n",
       "    <tr style=\"text-align: right;\">\n",
       "      <th></th>\n",
       "      <th>id_code</th>\n",
       "      <th>species</th>\n",
       "      <th>island</th>\n",
       "      <th>bill_length_mm</th>\n",
       "      <th>bill_depth_mm</th>\n",
       "      <th>flipper_length_mm</th>\n",
       "      <th>body_mass_g</th>\n",
       "      <th>sex</th>\n",
       "      <th>year</th>\n",
       "      <th>body_mass_kg</th>\n",
       "    </tr>\n",
       "  </thead>\n",
       "  <tbody>\n",
       "    <tr>\n",
       "      <th>0</th>\n",
       "      <td>201</td>\n",
       "      <td>Adelie</td>\n",
       "      <td>Torgersen</td>\n",
       "      <td>39.1</td>\n",
       "      <td>18.7</td>\n",
       "      <td>181.0</td>\n",
       "      <td>3750.0</td>\n",
       "      <td>male</td>\n",
       "      <td>2007</td>\n",
       "      <td>3.75</td>\n",
       "    </tr>\n",
       "    <tr>\n",
       "      <th>1</th>\n",
       "      <td>802</td>\n",
       "      <td>Adelie</td>\n",
       "      <td>Torgersen</td>\n",
       "      <td>39.5</td>\n",
       "      <td>17.4</td>\n",
       "      <td>186.0</td>\n",
       "      <td>3800.0</td>\n",
       "      <td>female</td>\n",
       "      <td>2007</td>\n",
       "      <td>3.80</td>\n",
       "    </tr>\n",
       "    <tr>\n",
       "      <th>2</th>\n",
       "      <td>476</td>\n",
       "      <td>Adelie</td>\n",
       "      <td>Torgersen</td>\n",
       "      <td>40.3</td>\n",
       "      <td>18.0</td>\n",
       "      <td>195.0</td>\n",
       "      <td>3250.0</td>\n",
       "      <td>female</td>\n",
       "      <td>2007</td>\n",
       "      <td>3.25</td>\n",
       "    </tr>\n",
       "    <tr>\n",
       "      <th>3</th>\n",
       "      <td>657</td>\n",
       "      <td>Adelie</td>\n",
       "      <td>Torgersen</td>\n",
       "      <td>NaN</td>\n",
       "      <td>NaN</td>\n",
       "      <td>NaN</td>\n",
       "      <td>NaN</td>\n",
       "      <td>NaN</td>\n",
       "      <td>2007</td>\n",
       "      <td>NaN</td>\n",
       "    </tr>\n",
       "    <tr>\n",
       "      <th>4</th>\n",
       "      <td>760</td>\n",
       "      <td>Adelie</td>\n",
       "      <td>Torgersen</td>\n",
       "      <td>36.7</td>\n",
       "      <td>19.3</td>\n",
       "      <td>193.0</td>\n",
       "      <td>3450.0</td>\n",
       "      <td>female</td>\n",
       "      <td>2007</td>\n",
       "      <td>3.45</td>\n",
       "    </tr>\n",
       "  </tbody>\n",
       "</table>\n",
       "</div>"
      ],
      "text/plain": [
       "   id_code species     island  bill_length_mm  bill_depth_mm  \\\n",
       "0      201  Adelie  Torgersen            39.1           18.7   \n",
       "1      802  Adelie  Torgersen            39.5           17.4   \n",
       "2      476  Adelie  Torgersen            40.3           18.0   \n",
       "3      657  Adelie  Torgersen             NaN            NaN   \n",
       "4      760  Adelie  Torgersen            36.7           19.3   \n",
       "\n",
       "   flipper_length_mm  body_mass_g     sex  year  body_mass_kg  \n",
       "0              181.0       3750.0    male  2007          3.75  \n",
       "1              186.0       3800.0  female  2007          3.80  \n",
       "2              195.0       3250.0  female  2007          3.25  \n",
       "3                NaN          NaN     NaN  2007           NaN  \n",
       "4              193.0       3450.0  female  2007          3.45  "
      ]
     },
     "execution_count": 13,
     "metadata": {},
     "output_type": "execute_result"
    }
   ],
   "source": [
    "# Create unique random 3-digit codes \n",
    "codes= random.sample(range(100, 1000), len(penguins))\n",
    "\n",
    "# Insert codes at the front of the data frame\n",
    "penguins.insert(loc= 0,\n",
    "               column= 'id_code',\n",
    "               value=codes)\n",
    "\n",
    "penguins.head()"
   ]
  },
  {
   "cell_type": "markdown",
   "id": "19b2dfec-48db-4eaf-b75e-bc8f2c60ed5f",
   "metadata": {},
   "source": [
    "## Adding multiple columns\n",
    "\n",
    "Use `assign()` to create or update multiple columns at once\n",
    "\n",
    "### Example\n",
    "\n",
    "We want to add these columns:\n",
    "- Flipper length converted from mm to cm\n",
    "- A code representing the observer"
   ]
  },
  {
   "cell_type": "code",
   "execution_count": 15,
   "id": "ab1db233-e420-4dd9-9739-b517822a81d9",
   "metadata": {
    "tags": []
   },
   "outputs": [
    {
     "data": {
      "text/html": [
       "<div>\n",
       "<style scoped>\n",
       "    .dataframe tbody tr th:only-of-type {\n",
       "        vertical-align: middle;\n",
       "    }\n",
       "\n",
       "    .dataframe tbody tr th {\n",
       "        vertical-align: top;\n",
       "    }\n",
       "\n",
       "    .dataframe thead th {\n",
       "        text-align: right;\n",
       "    }\n",
       "</style>\n",
       "<table border=\"1\" class=\"dataframe\">\n",
       "  <thead>\n",
       "    <tr style=\"text-align: right;\">\n",
       "      <th></th>\n",
       "      <th>id_code</th>\n",
       "      <th>species</th>\n",
       "      <th>island</th>\n",
       "      <th>bill_length_mm</th>\n",
       "      <th>bill_depth_mm</th>\n",
       "      <th>flipper_length_mm</th>\n",
       "      <th>body_mass_g</th>\n",
       "      <th>sex</th>\n",
       "      <th>year</th>\n",
       "      <th>body_mass_kg</th>\n",
       "      <th>flipper_length_cm</th>\n",
       "      <th>observer</th>\n",
       "    </tr>\n",
       "  </thead>\n",
       "  <tbody>\n",
       "    <tr>\n",
       "      <th>0</th>\n",
       "      <td>201</td>\n",
       "      <td>Adelie</td>\n",
       "      <td>Torgersen</td>\n",
       "      <td>39.1</td>\n",
       "      <td>18.7</td>\n",
       "      <td>181.0</td>\n",
       "      <td>3750.0</td>\n",
       "      <td>male</td>\n",
       "      <td>2007</td>\n",
       "      <td>3.75</td>\n",
       "      <td>18.1</td>\n",
       "      <td>B</td>\n",
       "    </tr>\n",
       "    <tr>\n",
       "      <th>1</th>\n",
       "      <td>802</td>\n",
       "      <td>Adelie</td>\n",
       "      <td>Torgersen</td>\n",
       "      <td>39.5</td>\n",
       "      <td>17.4</td>\n",
       "      <td>186.0</td>\n",
       "      <td>3800.0</td>\n",
       "      <td>female</td>\n",
       "      <td>2007</td>\n",
       "      <td>3.80</td>\n",
       "      <td>18.6</td>\n",
       "      <td>C</td>\n",
       "    </tr>\n",
       "    <tr>\n",
       "      <th>2</th>\n",
       "      <td>476</td>\n",
       "      <td>Adelie</td>\n",
       "      <td>Torgersen</td>\n",
       "      <td>40.3</td>\n",
       "      <td>18.0</td>\n",
       "      <td>195.0</td>\n",
       "      <td>3250.0</td>\n",
       "      <td>female</td>\n",
       "      <td>2007</td>\n",
       "      <td>3.25</td>\n",
       "      <td>19.5</td>\n",
       "      <td>C</td>\n",
       "    </tr>\n",
       "    <tr>\n",
       "      <th>3</th>\n",
       "      <td>657</td>\n",
       "      <td>Adelie</td>\n",
       "      <td>Torgersen</td>\n",
       "      <td>NaN</td>\n",
       "      <td>NaN</td>\n",
       "      <td>NaN</td>\n",
       "      <td>NaN</td>\n",
       "      <td>NaN</td>\n",
       "      <td>2007</td>\n",
       "      <td>NaN</td>\n",
       "      <td>NaN</td>\n",
       "      <td>B</td>\n",
       "    </tr>\n",
       "    <tr>\n",
       "      <th>4</th>\n",
       "      <td>760</td>\n",
       "      <td>Adelie</td>\n",
       "      <td>Torgersen</td>\n",
       "      <td>36.7</td>\n",
       "      <td>19.3</td>\n",
       "      <td>193.0</td>\n",
       "      <td>3450.0</td>\n",
       "      <td>female</td>\n",
       "      <td>2007</td>\n",
       "      <td>3.45</td>\n",
       "      <td>19.3</td>\n",
       "      <td>A</td>\n",
       "    </tr>\n",
       "  </tbody>\n",
       "</table>\n",
       "</div>"
      ],
      "text/plain": [
       "   id_code species     island  bill_length_mm  bill_depth_mm  \\\n",
       "0      201  Adelie  Torgersen            39.1           18.7   \n",
       "1      802  Adelie  Torgersen            39.5           17.4   \n",
       "2      476  Adelie  Torgersen            40.3           18.0   \n",
       "3      657  Adelie  Torgersen             NaN            NaN   \n",
       "4      760  Adelie  Torgersen            36.7           19.3   \n",
       "\n",
       "   flipper_length_mm  body_mass_g     sex  year  body_mass_kg  \\\n",
       "0              181.0       3750.0    male  2007          3.75   \n",
       "1              186.0       3800.0  female  2007          3.80   \n",
       "2              195.0       3250.0  female  2007          3.25   \n",
       "3                NaN          NaN     NaN  2007           NaN   \n",
       "4              193.0       3450.0  female  2007          3.45   \n",
       "\n",
       "   flipper_length_cm observer  \n",
       "0               18.1        B  \n",
       "1               18.6        C  \n",
       "2               19.5        C  \n",
       "3                NaN        B  \n",
       "4               19.3        A  "
      ]
     },
     "execution_count": 15,
     "metadata": {},
     "output_type": "execute_result"
    }
   ],
   "source": [
    "# Create the new columns\n",
    "penguins= penguins.assign(flipper_length_cm= penguins['flipper_length_mm']/10,\n",
    "                         observer= random.choices(['A', 'B', 'C'], k= len(penguins)))\n",
    "penguins.head()"
   ]
  },
  {
   "cell_type": "markdown",
   "id": "84b7acd2-f8c2-43eb-8a63-e500111aeb3e",
   "metadata": {},
   "source": [
    "## Removing columns\n",
    "\n",
    "Remove columns using the `drop()` method:\n",
    "\n",
    "```\n",
    "df= df.drop(column= col_names)\n",
    "```\n",
    "col_names can be a single name or a list"
   ]
  },
  {
   "cell_type": "code",
   "execution_count": 17,
   "id": "8b738610-0b60-4af5-bf5f-d5f7e5a5a969",
   "metadata": {
    "tags": []
   },
   "outputs": [
    {
     "data": {
      "text/html": [
       "<div>\n",
       "<style scoped>\n",
       "    .dataframe tbody tr th:only-of-type {\n",
       "        vertical-align: middle;\n",
       "    }\n",
       "\n",
       "    .dataframe tbody tr th {\n",
       "        vertical-align: top;\n",
       "    }\n",
       "\n",
       "    .dataframe thead th {\n",
       "        text-align: right;\n",
       "    }\n",
       "</style>\n",
       "<table border=\"1\" class=\"dataframe\">\n",
       "  <thead>\n",
       "    <tr style=\"text-align: right;\">\n",
       "      <th></th>\n",
       "      <th>id_code</th>\n",
       "      <th>species</th>\n",
       "      <th>island</th>\n",
       "      <th>bill_length_mm</th>\n",
       "      <th>bill_depth_mm</th>\n",
       "      <th>sex</th>\n",
       "      <th>year</th>\n",
       "      <th>body_mass_kg</th>\n",
       "      <th>flipper_length_cm</th>\n",
       "      <th>observer</th>\n",
       "    </tr>\n",
       "  </thead>\n",
       "  <tbody>\n",
       "    <tr>\n",
       "      <th>0</th>\n",
       "      <td>201</td>\n",
       "      <td>Adelie</td>\n",
       "      <td>Torgersen</td>\n",
       "      <td>39.1</td>\n",
       "      <td>18.7</td>\n",
       "      <td>male</td>\n",
       "      <td>2007</td>\n",
       "      <td>3.75</td>\n",
       "      <td>18.1</td>\n",
       "      <td>B</td>\n",
       "    </tr>\n",
       "    <tr>\n",
       "      <th>1</th>\n",
       "      <td>802</td>\n",
       "      <td>Adelie</td>\n",
       "      <td>Torgersen</td>\n",
       "      <td>39.5</td>\n",
       "      <td>17.4</td>\n",
       "      <td>female</td>\n",
       "      <td>2007</td>\n",
       "      <td>3.80</td>\n",
       "      <td>18.6</td>\n",
       "      <td>C</td>\n",
       "    </tr>\n",
       "    <tr>\n",
       "      <th>2</th>\n",
       "      <td>476</td>\n",
       "      <td>Adelie</td>\n",
       "      <td>Torgersen</td>\n",
       "      <td>40.3</td>\n",
       "      <td>18.0</td>\n",
       "      <td>female</td>\n",
       "      <td>2007</td>\n",
       "      <td>3.25</td>\n",
       "      <td>19.5</td>\n",
       "      <td>C</td>\n",
       "    </tr>\n",
       "    <tr>\n",
       "      <th>3</th>\n",
       "      <td>657</td>\n",
       "      <td>Adelie</td>\n",
       "      <td>Torgersen</td>\n",
       "      <td>NaN</td>\n",
       "      <td>NaN</td>\n",
       "      <td>NaN</td>\n",
       "      <td>2007</td>\n",
       "      <td>NaN</td>\n",
       "      <td>NaN</td>\n",
       "      <td>B</td>\n",
       "    </tr>\n",
       "    <tr>\n",
       "      <th>4</th>\n",
       "      <td>760</td>\n",
       "      <td>Adelie</td>\n",
       "      <td>Torgersen</td>\n",
       "      <td>36.7</td>\n",
       "      <td>19.3</td>\n",
       "      <td>female</td>\n",
       "      <td>2007</td>\n",
       "      <td>3.45</td>\n",
       "      <td>19.3</td>\n",
       "      <td>A</td>\n",
       "    </tr>\n",
       "  </tbody>\n",
       "</table>\n",
       "</div>"
      ],
      "text/plain": [
       "   id_code species     island  bill_length_mm  bill_depth_mm     sex  year  \\\n",
       "0      201  Adelie  Torgersen            39.1           18.7    male  2007   \n",
       "1      802  Adelie  Torgersen            39.5           17.4  female  2007   \n",
       "2      476  Adelie  Torgersen            40.3           18.0  female  2007   \n",
       "3      657  Adelie  Torgersen             NaN            NaN     NaN  2007   \n",
       "4      760  Adelie  Torgersen            36.7           19.3  female  2007   \n",
       "\n",
       "   body_mass_kg  flipper_length_cm observer  \n",
       "0          3.75               18.1        B  \n",
       "1          3.80               18.6        C  \n",
       "2          3.25               19.5        C  \n",
       "3           NaN                NaN        B  \n",
       "4          3.45               19.3        A  "
      ]
     },
     "execution_count": 17,
     "metadata": {},
     "output_type": "execute_result"
    }
   ],
   "source": [
    "penguins= penguins.drop(columns= ['flipper_length_mm', 'body_mass_g'])\n",
    "\n",
    "penguins.head()"
   ]
  },
  {
   "cell_type": "markdown",
   "id": "a1233fc1-c98c-42ee-af0b-67dda2eb9ece",
   "metadata": {},
   "source": [
    "## Updating specific values in our data frame\n",
    "\n",
    " Sometimes we want to update specific values in our data frame\n",
    " \n",
    " ### A single value\n",
    " \n",
    " Access a single value in a data frame using the locators:\n",
    " - `at[]` to select labels\n",
    " - `iat[]` to select by position\n",
    " \n",
    " ```\n",
    " df.at[single_value_index, 'column_name']\n",
    " ```\n",
    " \n",
    " ## Example \n",
    " \n",
    " "
   ]
  },
  {
   "cell_type": "code",
   "execution_count": 18,
   "id": "41939915-64bf-4791-a883-0ebcd2dab4d3",
   "metadata": {
    "tags": []
   },
   "outputs": [
    {
     "data": {
      "text/html": [
       "<div>\n",
       "<style scoped>\n",
       "    .dataframe tbody tr th:only-of-type {\n",
       "        vertical-align: middle;\n",
       "    }\n",
       "\n",
       "    .dataframe tbody tr th {\n",
       "        vertical-align: top;\n",
       "    }\n",
       "\n",
       "    .dataframe thead th {\n",
       "        text-align: right;\n",
       "    }\n",
       "</style>\n",
       "<table border=\"1\" class=\"dataframe\">\n",
       "  <thead>\n",
       "    <tr style=\"text-align: right;\">\n",
       "      <th></th>\n",
       "      <th>species</th>\n",
       "      <th>island</th>\n",
       "      <th>bill_length_mm</th>\n",
       "      <th>bill_depth_mm</th>\n",
       "      <th>sex</th>\n",
       "      <th>year</th>\n",
       "      <th>body_mass_kg</th>\n",
       "      <th>flipper_length_cm</th>\n",
       "      <th>observer</th>\n",
       "    </tr>\n",
       "    <tr>\n",
       "      <th>id_code</th>\n",
       "      <th></th>\n",
       "      <th></th>\n",
       "      <th></th>\n",
       "      <th></th>\n",
       "      <th></th>\n",
       "      <th></th>\n",
       "      <th></th>\n",
       "      <th></th>\n",
       "      <th></th>\n",
       "    </tr>\n",
       "  </thead>\n",
       "  <tbody>\n",
       "    <tr>\n",
       "      <th>201</th>\n",
       "      <td>Adelie</td>\n",
       "      <td>Torgersen</td>\n",
       "      <td>39.1</td>\n",
       "      <td>18.7</td>\n",
       "      <td>male</td>\n",
       "      <td>2007</td>\n",
       "      <td>3.750</td>\n",
       "      <td>18.1</td>\n",
       "      <td>B</td>\n",
       "    </tr>\n",
       "    <tr>\n",
       "      <th>802</th>\n",
       "      <td>Adelie</td>\n",
       "      <td>Torgersen</td>\n",
       "      <td>39.5</td>\n",
       "      <td>17.4</td>\n",
       "      <td>female</td>\n",
       "      <td>2007</td>\n",
       "      <td>3.800</td>\n",
       "      <td>18.6</td>\n",
       "      <td>C</td>\n",
       "    </tr>\n",
       "    <tr>\n",
       "      <th>476</th>\n",
       "      <td>Adelie</td>\n",
       "      <td>Torgersen</td>\n",
       "      <td>40.3</td>\n",
       "      <td>18.0</td>\n",
       "      <td>female</td>\n",
       "      <td>2007</td>\n",
       "      <td>3.250</td>\n",
       "      <td>19.5</td>\n",
       "      <td>C</td>\n",
       "    </tr>\n",
       "    <tr>\n",
       "      <th>657</th>\n",
       "      <td>Adelie</td>\n",
       "      <td>Torgersen</td>\n",
       "      <td>NaN</td>\n",
       "      <td>NaN</td>\n",
       "      <td>NaN</td>\n",
       "      <td>2007</td>\n",
       "      <td>NaN</td>\n",
       "      <td>NaN</td>\n",
       "      <td>B</td>\n",
       "    </tr>\n",
       "    <tr>\n",
       "      <th>760</th>\n",
       "      <td>Adelie</td>\n",
       "      <td>Torgersen</td>\n",
       "      <td>36.7</td>\n",
       "      <td>19.3</td>\n",
       "      <td>female</td>\n",
       "      <td>2007</td>\n",
       "      <td>3.450</td>\n",
       "      <td>19.3</td>\n",
       "      <td>A</td>\n",
       "    </tr>\n",
       "    <tr>\n",
       "      <th>...</th>\n",
       "      <td>...</td>\n",
       "      <td>...</td>\n",
       "      <td>...</td>\n",
       "      <td>...</td>\n",
       "      <td>...</td>\n",
       "      <td>...</td>\n",
       "      <td>...</td>\n",
       "      <td>...</td>\n",
       "      <td>...</td>\n",
       "    </tr>\n",
       "    <tr>\n",
       "      <th>430</th>\n",
       "      <td>Chinstrap</td>\n",
       "      <td>Dream</td>\n",
       "      <td>55.8</td>\n",
       "      <td>19.8</td>\n",
       "      <td>male</td>\n",
       "      <td>2009</td>\n",
       "      <td>4.000</td>\n",
       "      <td>20.7</td>\n",
       "      <td>B</td>\n",
       "    </tr>\n",
       "    <tr>\n",
       "      <th>423</th>\n",
       "      <td>Chinstrap</td>\n",
       "      <td>Dream</td>\n",
       "      <td>43.5</td>\n",
       "      <td>18.1</td>\n",
       "      <td>female</td>\n",
       "      <td>2009</td>\n",
       "      <td>3.400</td>\n",
       "      <td>20.2</td>\n",
       "      <td>A</td>\n",
       "    </tr>\n",
       "    <tr>\n",
       "      <th>254</th>\n",
       "      <td>Chinstrap</td>\n",
       "      <td>Dream</td>\n",
       "      <td>49.6</td>\n",
       "      <td>18.2</td>\n",
       "      <td>male</td>\n",
       "      <td>2009</td>\n",
       "      <td>3.775</td>\n",
       "      <td>19.3</td>\n",
       "      <td>A</td>\n",
       "    </tr>\n",
       "    <tr>\n",
       "      <th>550</th>\n",
       "      <td>Chinstrap</td>\n",
       "      <td>Dream</td>\n",
       "      <td>50.8</td>\n",
       "      <td>19.0</td>\n",
       "      <td>male</td>\n",
       "      <td>2009</td>\n",
       "      <td>4.100</td>\n",
       "      <td>21.0</td>\n",
       "      <td>B</td>\n",
       "    </tr>\n",
       "    <tr>\n",
       "      <th>169</th>\n",
       "      <td>Chinstrap</td>\n",
       "      <td>Dream</td>\n",
       "      <td>50.2</td>\n",
       "      <td>18.7</td>\n",
       "      <td>female</td>\n",
       "      <td>2009</td>\n",
       "      <td>3.775</td>\n",
       "      <td>19.8</td>\n",
       "      <td>B</td>\n",
       "    </tr>\n",
       "  </tbody>\n",
       "</table>\n",
       "<p>344 rows × 9 columns</p>\n",
       "</div>"
      ],
      "text/plain": [
       "           species     island  bill_length_mm  bill_depth_mm     sex  year  \\\n",
       "id_code                                                                      \n",
       "201         Adelie  Torgersen            39.1           18.7    male  2007   \n",
       "802         Adelie  Torgersen            39.5           17.4  female  2007   \n",
       "476         Adelie  Torgersen            40.3           18.0  female  2007   \n",
       "657         Adelie  Torgersen             NaN            NaN     NaN  2007   \n",
       "760         Adelie  Torgersen            36.7           19.3  female  2007   \n",
       "...            ...        ...             ...            ...     ...   ...   \n",
       "430      Chinstrap      Dream            55.8           19.8    male  2009   \n",
       "423      Chinstrap      Dream            43.5           18.1  female  2009   \n",
       "254      Chinstrap      Dream            49.6           18.2    male  2009   \n",
       "550      Chinstrap      Dream            50.8           19.0    male  2009   \n",
       "169      Chinstrap      Dream            50.2           18.7  female  2009   \n",
       "\n",
       "         body_mass_kg  flipper_length_cm observer  \n",
       "id_code                                            \n",
       "201             3.750               18.1        B  \n",
       "802             3.800               18.6        C  \n",
       "476             3.250               19.5        C  \n",
       "657               NaN                NaN        B  \n",
       "760             3.450               19.3        A  \n",
       "...               ...                ...      ...  \n",
       "430             4.000               20.7        B  \n",
       "423             3.400               20.2        A  \n",
       "254             3.775               19.3        A  \n",
       "550             4.100               21.0        B  \n",
       "169             3.775               19.8        B  \n",
       "\n",
       "[344 rows x 9 columns]"
      ]
     },
     "execution_count": 18,
     "metadata": {},
     "output_type": "execute_result"
    }
   ],
   "source": [
    "penguins= penguins.set_index('id_code')\n",
    "\n",
    "penguins"
   ]
  },
  {
   "cell_type": "markdown",
   "id": "cdecb775-e337-4dfd-8f72-12ad79f8cb71",
   "metadata": {},
   "source": [
    "What was the bill length of the penguin with ID # 657?\n"
   ]
  },
  {
   "cell_type": "code",
   "execution_count": 19,
   "id": "8cef52e9-9645-4f71-af0e-f54ab0975dcd",
   "metadata": {
    "tags": []
   },
   "outputs": [
    {
     "data": {
      "text/plain": [
       "nan"
      ]
     },
     "execution_count": 19,
     "metadata": {},
     "output_type": "execute_result"
    }
   ],
   "source": [
    "# Check bill length of 657\n",
    "penguins.at[657, 'bill_length_mm']"
   ]
  },
  {
   "cell_type": "code",
   "execution_count": 22,
   "id": "4a1cd9b8-e907-4f2b-903a-d9365cbb8993",
   "metadata": {
    "tags": []
   },
   "outputs": [
    {
     "data": {
      "text/plain": [
       "species                 Adelie\n",
       "island               Torgersen\n",
       "bill_length_mm            38.3\n",
       "bill_depth_mm              NaN\n",
       "sex                        NaN\n",
       "year                    2007.0\n",
       "body_mass_kg               NaN\n",
       "flipper_length_cm          NaN\n",
       "observer                     B\n",
       "Name: 657, dtype: object"
      ]
     },
     "execution_count": 22,
     "metadata": {},
     "output_type": "execute_result"
    }
   ],
   "source": [
    "# Update this value to 38.3 mm, using at[]\n",
    "penguins.at[657, 'bill_length_mm'] = 38.3\n",
    "\n",
    "# Confirm value was updated\n",
    "penguins.loc[657]"
   ]
  },
  {
   "cell_type": "markdown",
   "id": "6af51bd4-95ff-4d16-a71e-b1d0a1316484",
   "metadata": {},
   "source": [
    "\n",
    "If we want to update or access a single value by position we use `iat[]` locator:\n",
    "\n",
    "```\n",
    "df.iat[index_integer_location, column_integer_location]\n",
    "```\n",
    "or\n",
    "\n",
    "```\n",
    "df.columns.get_loc('column_name')\n",
    "```"
   ]
  },
  {
   "cell_type": "code",
   "execution_count": 33,
   "id": "a078681d-e41d-490a-a6f7-19d14ed5f71d",
   "metadata": {
    "tags": []
   },
   "outputs": [],
   "source": [
    "# Get the position of the bill_length_mm column\n",
    "bill_length_index= penguins.columns.get_loc('bill_length_mm')"
   ]
  },
  {
   "cell_type": "code",
   "execution_count": 34,
   "id": "6422bbc9-d12f-48d9-bf5d-a5402dd70a7d",
   "metadata": {
    "tags": []
   },
   "outputs": [],
   "source": [
    "penguins.iat[3, bill_length_index]= np.nan"
   ]
  },
  {
   "cell_type": "code",
   "execution_count": 35,
   "id": "ec46a753-755d-4543-95b9-69035f47fee5",
   "metadata": {
    "tags": []
   },
   "outputs": [
    {
     "data": {
      "text/plain": [
       "species                 Adelie\n",
       "island               Torgersen\n",
       "bill_length_mm             NaN\n",
       "bill_depth_mm              NaN\n",
       "sex                        NaN\n",
       "year                    2007.0\n",
       "body_mass_kg               NaN\n",
       "flipper_length_cm          NaN\n",
       "observer                     B\n",
       "Name: 657, dtype: object"
      ]
     },
     "execution_count": 35,
     "metadata": {},
     "output_type": "execute_result"
    }
   ],
   "source": [
    "penguins.iloc[3]"
   ]
  },
  {
   "cell_type": "markdown",
   "id": "00b9f2fa-e12f-40ef-898c-b4813acf6f69",
   "metadata": {},
   "source": [
    "## Update multiple values in a column\n",
    "\n",
    "What if we want to update multiple values in a column?\n",
    "\n",
    "### Using a condition\n",
    " When we need to create a new column where the new values depend on conditions on another column.\n",
    " \n",
    "#### Example\n",
    "\n",
    "We want to classify penguins by:\n",
    "\n",
    "- penguins with body mass < 3 kg are small\n",
    "- penguins with 3 kg <= body mass < 5 kg are medium\n",
    "- penguins with 5kg <= body mass are large\n",
    "\n",
    "We will use `numpy.select()`"
   ]
  },
  {
   "cell_type": "code",
   "execution_count": 38,
   "id": "da665183-5597-4d80-b94f-5573fd288049",
   "metadata": {
    "tags": []
   },
   "outputs": [],
   "source": [
    "conditions = [penguins.body_mass_kg < 3,\n",
    "             (3<= penguins.body_mass_kg) & (penguins.body_mass_kg<5),\n",
    "             5 <= penguins.body_mass_kg]\n",
    "\n",
    "# Create a list with choices\n",
    "choices= ['small', 'medium', 'large']\n",
    "\n",
    "penguins['size'] = np.select(conditions,\n",
    "                          choices,\n",
    "                          default= np.nan)"
   ]
  },
  {
   "cell_type": "markdown",
   "id": "c30782fa-9968-4555-a9d2-f83fc3ee02a0",
   "metadata": {},
   "source": [
    "## By selecting values and then updating them\n",
    "\n",
    "```\n",
    "df.loc[row_selection, column_name]= new_names\n",
    "```\n",
    "\n",
    "- `row_selection`: the rwos we want to update \n",
    "- `col_name`: a single column name\n",
    "- `new_names`: the new value or values that we want. If using multiple values, then the new_values must be of the same length as the rows selected\n",
    "\n",
    "Using `iloc[]` in assignment modifies the data frame without the need for direct reassignment"
   ]
  },
  {
   "cell_type": "markdown",
   "id": "f4e8ab18-41c8-430f-89a7-1db505bf93c4",
   "metadata": {},
   "source": [
    "### Example\n",
    "\n",
    "Update the 'male' values in the sex column to 'M' "
   ]
  },
  {
   "cell_type": "code",
   "execution_count": 41,
   "id": "80bc9510-0a76-4720-abd2-7f3946c0457b",
   "metadata": {
    "tags": []
   },
   "outputs": [],
   "source": [
    "# Selecting the male rows and renaming\n",
    "penguins.loc[penguins.sex== 'male', 'sex']= 'M'"
   ]
  },
  {
   "cell_type": "code",
   "execution_count": 42,
   "id": "bd4ea06b-ec0e-4666-8e6f-6424c3b1e7ed",
   "metadata": {
    "tags": []
   },
   "outputs": [
    {
     "name": "stdout",
     "output_type": "stream",
     "text": [
      "['M' 'female' nan]\n"
     ]
    }
   ],
   "source": [
    "# Check the changes in the sex column\n",
    "print(penguins.sex.unique())"
   ]
  },
  {
   "cell_type": "markdown",
   "id": "d5a6c3b3-2a1b-4c13-87f2-1a83d151cf93",
   "metadata": {},
   "source": [
    "### Best practices \n",
    "\n",
    "We want to similarly update the 'female' values in the sex column to 'F'. We might try to do it this way"
   ]
  },
  {
   "cell_type": "code",
   "execution_count": 43,
   "id": "263aeaa6-cdc5-4e2d-a12b-3769af91a93a",
   "metadata": {
    "tags": []
   },
   "outputs": [
    {
     "name": "stderr",
     "output_type": "stream",
     "text": [
      "/tmp/ipykernel_1686596/4188309669.py:1: SettingWithCopyWarning: \n",
      "A value is trying to be set on a copy of a slice from a DataFrame.\n",
      "Try using .loc[row_indexer,col_indexer] = value instead\n",
      "\n",
      "See the caveats in the documentation: https://pandas.pydata.org/pandas-docs/stable/user_guide/indexing.html#returning-a-view-versus-a-copy\n",
      "  penguins[penguins.sex=='female']['sex']= 'F'\n"
     ]
    }
   ],
   "source": [
    "penguins[penguins.sex=='female']['sex']= 'F'"
   ]
  },
  {
   "cell_type": "markdown",
   "id": "e5616668-14e4-4846-9b33-cb7496191e4f",
   "metadata": {},
   "source": [
    "The use of double brackets to subset is called **chained indexing**.\n",
    "\n",
    "When we select the data that way that we want to update, we will recieve a warning to use `loc[]` instead\n",
    "\n",
    "The warning is to let us know that it didn't update the original data frame"
   ]
  },
  {
   "cell_type": "code",
   "execution_count": 44,
   "id": "47af2eed-1ad3-4540-9ee9-80e2333839ca",
   "metadata": {
    "tags": []
   },
   "outputs": [
    {
     "data": {
      "text/plain": [
       "array(['M', 'female', nan], dtype=object)"
      ]
     },
     "execution_count": 44,
     "metadata": {},
     "output_type": "execute_result"
    }
   ],
   "source": [
    "penguins['sex'].unique()"
   ]
  },
  {
   "cell_type": "markdown",
   "id": "6d7ec9b4-4b4d-4e77-9bd7-25461af873e4",
   "metadata": {},
   "source": [
    "**Avoid chained `[][]` and use .loc[] instead** \n",
    "This warning often arises from chained indexing"
   ]
  },
  {
   "cell_type": "markdown",
   "id": "61f6b37c-ecc1-4ebd-b0db-4b24cc887a56",
   "metadata": {},
   "source": [
    "Update the 'female' values in the penguins data frame without using the chained index method"
   ]
  },
  {
   "cell_type": "code",
   "execution_count": 46,
   "id": "62402b3e-af53-4e43-b060-943c999a3362",
   "metadata": {
    "tags": []
   },
   "outputs": [],
   "source": [
    "# No chain indexing \n",
    "penguins.loc[penguins.sex== 'female', 'sex']= 'F'"
   ]
  },
  {
   "cell_type": "code",
   "execution_count": 47,
   "id": "ab6621b7-3b02-462e-aee7-a739381797a2",
   "metadata": {
    "tags": []
   },
   "outputs": [
    {
     "data": {
      "text/plain": [
       "array(['M', 'F', nan], dtype=object)"
      ]
     },
     "execution_count": 47,
     "metadata": {},
     "output_type": "execute_result"
    }
   ],
   "source": [
    "penguins['sex'].unique()"
   ]
  },
  {
   "cell_type": "code",
   "execution_count": null,
   "id": "cad87fff-e6c0-4023-a9b7-4dd2396d2113",
   "metadata": {},
   "outputs": [],
   "source": []
  }
 ],
 "metadata": {
  "kernelspec": {
   "display_name": "Anaconda 3 (Base)",
   "language": "python",
   "name": "base"
  },
  "language_info": {
   "codemirror_mode": {
    "name": "ipython",
    "version": 3
   },
   "file_extension": ".py",
   "mimetype": "text/x-python",
   "name": "python",
   "nbconvert_exporter": "python",
   "pygments_lexer": "ipython3",
   "version": "3.9.13"
  }
 },
 "nbformat": 4,
 "nbformat_minor": 5
}
