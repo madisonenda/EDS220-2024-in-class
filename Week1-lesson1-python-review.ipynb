{
 "cells": [
  {
   "cell_type": "markdown",
   "id": "7d46cabb-7c32-4688-8a5c-089903366dd2",
   "metadata": {},
   "source": [
    "# Python Review \n",
    "\n",
    "Short review about some core concepts in Python exemplified by objects in the NUmpy Library.\n",
    "\n",
    "Goals:\n",
    "\n",
    "- recall basic Python vocabulary\n",
    "- practice markdown syntax\n",
    "\n",
    "## Libraries and packages\n",
    "\n",
    "**library** is a collection of code that we can use to perform a specific task in our program. It can be a single file or multiple files.\n",
    "\n",
    "**NumPy**\n",
    "\n",
    "- core library for numerical computation\n",
    "- many of the libraires use NumPy arrays as their building blocks\n",
    "- computations on NumPy objects are optimized for speed and memory usage\n",
    "\n",
    "Lets import NumPy with its  **standard abbreviation** `np`:\n",
    "\n"
   ]
  },
  {
   "cell_type": "code",
   "execution_count": 1,
   "id": "f40ba761-e661-4d35-af20-e08024cad965",
   "metadata": {
    "tags": []
   },
   "outputs": [],
   "source": [
    "import numpy as np"
   ]
  },
  {
   "cell_type": "markdown",
   "id": "893d6fff-a2fe-430d-bc92-2d1f479da5c8",
   "metadata": {},
   "source": [
    "## Variables \n",
    "\n",
    "**variable** a name we assign to a particular object\n",
    "\n",
    "Example:"
   ]
  },
  {
   "cell_type": "code",
   "execution_count": 2,
   "id": "6b062c25-cbf8-41f5-8849-8f533a016630",
   "metadata": {
    "tags": []
   },
   "outputs": [],
   "source": [
    "#Assign a small array to a variable\n",
    "a = np.array([[1,1,2], [3,5,8]])"
   ]
  },
  {
   "cell_type": "code",
   "execution_count": 3,
   "id": "35a7c4b1-f0d0-4fda-b4f2-bd16bb1a474b",
   "metadata": {
    "tags": []
   },
   "outputs": [
    {
     "data": {
      "text/plain": [
       "array([[1, 1, 2],\n",
       "       [3, 5, 8]])"
      ]
     },
     "execution_count": 3,
     "metadata": {},
     "output_type": "execute_result"
    }
   ],
   "source": [
    "a"
   ]
  },
  {
   "cell_type": "markdown",
   "id": "2ca6d3a7-1b9f-42f8-a5aa-514380466346",
   "metadata": {},
   "source": [
    "## Convention: Use `snakecase` for naming variables\n",
    "\n",
    "This is the naming convention we will be using in the course\n",
    "\n",
    "**Remeber that variable names should be both descriptive and concise \n",
    "\n",
    "Recall:\n",
    "\n",
    "Objects: data frame\n",
    "\n",
    "Properties: number of rows, names of columns, dates created, etc\n",
    "Actions: selecting from a dataframe\n",
    "\n",
    "Variable is the name of a specific object\n",
    "\n",
    "## Types\n",
    "\n",
    "The **class** of an object and the **type** of an object refer to the same thing."
   ]
  },
  {
   "cell_type": "markdown",
   "id": "7d00cc67-0597-4fcf-b6d6-88fcf9002f37",
   "metadata": {},
   "source": [
    "# See the type/class of a variable using the type function\n",
    "\n",
    "numpy.ndarray\n",
    "\n",
    "The numpy.ndarray is the core object/data type finder in the NumPy package"
   ]
  },
  {
   "cell_type": "code",
   "execution_count": 4,
   "id": "60e7536f-2da8-44ad-a2f8-ae69af903880",
   "metadata": {
    "tags": []
   },
   "outputs": [
    {
     "name": "stdout",
     "output_type": "stream",
     "text": [
      "1\n"
     ]
    }
   ],
   "source": [
    "print(a[0,0])"
   ]
  },
  {
   "cell_type": "code",
   "execution_count": 5,
   "id": "91b86c22-869a-46d2-8110-9979439a9058",
   "metadata": {
    "tags": []
   },
   "outputs": [
    {
     "data": {
      "text/plain": [
       "numpy.int64"
      ]
     },
     "execution_count": 5,
     "metadata": {},
     "output_type": "execute_result"
    }
   ],
   "source": [
    "type(a[0,0])"
   ]
  },
  {
   "cell_type": "markdown",
   "id": "fdc57ed7-ce3a-48b9-b9bd-3829b07efd10",
   "metadata": {},
   "source": [
    "`numpy.int64` is not the standard python integer type int\n",
    "\n",
    "`numpy.int64` is a special data type in Numpy telling us that 1 is an integer stored as a 64-bit number\n",
    "\n",
    "Check-in: access the value 5 in array 'a'\n"
   ]
  },
  {
   "cell_type": "code",
   "execution_count": 6,
   "id": "02d0bee2-dc7f-4190-8ea1-1f3d990ee157",
   "metadata": {
    "tags": []
   },
   "outputs": [
    {
     "name": "stdout",
     "output_type": "stream",
     "text": [
      "5\n"
     ]
    }
   ],
   "source": [
    "print(a[1,1])"
   ]
  },
  {
   "cell_type": "markdown",
   "id": "914e1f6f-cc01-4828-a04f-ad652a86d126",
   "metadata": {},
   "source": [
    "## Functions\n",
    "\n",
    "`print` was our first example of a **function** in Python\n",
    "\n",
    "Functions take in a set of **arguments**, separated by commas, to create **outputs**\n",
    "\n",
    "In this course, we will use the terms arguments and parameters interchangebly, but they do have a slight distinction"
   ]
  },
  {
   "cell_type": "markdown",
   "id": "070cbdb4-e68f-4b87-951f-27c06c981c61",
   "metadata": {},
   "source": [
    "Using the `?` function to look into something, we obtain a **docstring**, which is basically the metadata of the function\n",
    "\n",
    "Roughly speaking, a function has two types of arguments:\n",
    "\n",
    "- **non-optional arguments**: arguments that *you* have to specify for the function to work\n",
    "\n",
    "- **optional arguments**: arguments that are pre-filled with a default value, that can be overridden if desired.\n",
    "\n",
    "Example:\n",
    "\n",
    "`end` is a parameter in `print` with a default value on a new line\n",
    "We can pass the value `:)` to this parameter so that it finished with this instead of a period\n",
    "\n",
    "print('Change the end parameter', end= ':)')\n"
   ]
  },
  {
   "cell_type": "markdown",
   "id": "4739718e-deeb-4da2-bf5a-c406a2b604a3",
   "metadata": {},
   "source": [
    "## Attributed and methods\n",
    "\n",
    "An object in Python has attributes and methods. \n",
    "\n",
    "- **attributes**: a property of an object\n",
    "- **methods**: a function that acts on the object\n",
    "\n",
    "## Check-in \n",
    "\n",
    "Make a diagram like the cat one, for a class `fish`. \n",
    "\n",
    "Example:\n",
    "\n",
    "Numpy arrays have many methods and attributes. For example:\n",
    "\n"
   ]
  },
  {
   "cell_type": "code",
   "execution_count": 7,
   "id": "86919e60-7461-4065-9740-1b443372e96f",
   "metadata": {
    "tags": []
   },
   "outputs": [
    {
     "data": {
      "text/plain": [
       "array([[1, 1, 2],\n",
       "       [3, 5, 8]])"
      ]
     },
     "execution_count": 7,
     "metadata": {},
     "output_type": "execute_result"
    }
   ],
   "source": [
    "a"
   ]
  },
  {
   "cell_type": "code",
   "execution_count": 8,
   "id": "b70d5774-5207-453c-b9aa-8a0d90eb7e1d",
   "metadata": {
    "tags": []
   },
   "outputs": [
    {
     "name": "stdout",
     "output_type": "stream",
     "text": [
      "[[1 3]\n",
      " [1 5]\n",
      " [2 8]]\n"
     ]
    }
   ],
   "source": [
    "# T is an example of an attribute, which returns a transpose of array\n",
    "print(a.T)"
   ]
  },
  {
   "cell_type": "code",
   "execution_count": 9,
   "id": "0437afe1-4ef3-4e5b-ac6b-f4a5967f1663",
   "metadata": {
    "tags": []
   },
   "outputs": [
    {
     "data": {
      "text/plain": [
       "numpy.ndarray"
      ]
     },
     "execution_count": 9,
     "metadata": {},
     "output_type": "execute_result"
    }
   ],
   "source": [
    "type(a.T)"
   ]
  },
  {
   "cell_type": "code",
   "execution_count": 11,
   "id": "f9b5fbbd-b1a6-4d02-a12f-749560988b43",
   "metadata": {
    "tags": []
   },
   "outputs": [
    {
     "name": "stdout",
     "output_type": "stream",
     "text": [
      "(2, 3)\n"
     ]
    }
   ],
   "source": [
    "#shape is another attribute that tells us the shape of the array\n",
    "print(a.shape)"
   ]
  },
  {
   "cell_type": "code",
   "execution_count": 13,
   "id": "12ed0a65-8cbf-4267-be62-4e4ac229f901",
   "metadata": {
    "tags": []
   },
   "outputs": [
    {
     "name": "stdout",
     "output_type": "stream",
     "text": [
      "dim: 2 |type: <class 'int'>\n"
     ]
    }
   ],
   "source": [
    "print('dim:', a.ndim, '|type:', type(a.ndim))"
   ]
  },
  {
   "cell_type": "code",
   "execution_count": 14,
   "id": "c957ba05-2c7f-4448-801d-9297dd4d7f94",
   "metadata": {
    "tags": []
   },
   "outputs": [
    {
     "name": "stdout",
     "output_type": "stream",
     "text": [
      "[[1 1 2]\n",
      " [3 5 8]]\n"
     ]
    },
    {
     "data": {
      "text/plain": [
       "array([1, 1, 2])"
      ]
     },
     "execution_count": 14,
     "metadata": {},
     "output_type": "execute_result"
    }
   ],
   "source": [
    "#The min method returns the minimum value in the array that belongs to a specific axis\n",
    "\n",
    "print(a)\n",
    "a.min(axis=0)"
   ]
  },
  {
   "cell_type": "markdown",
   "id": "4dbfa70c-3371-4e68-b43e-61591228640b",
   "metadata": {},
   "source": [
    "Remember that methods are functions associated with an object. We can confirm this below:\n"
   ]
  },
  {
   "cell_type": "code",
   "execution_count": 15,
   "id": "78f54fef-b2c4-4ba4-aff6-5d2a5619153c",
   "metadata": {
    "tags": []
   },
   "outputs": [
    {
     "data": {
      "text/plain": [
       "[[1, 1, 2], [3, 5, 8]]"
      ]
     },
     "execution_count": 15,
     "metadata": {},
     "output_type": "execute_result"
    }
   ],
   "source": [
    "a.tolist()"
   ]
  },
  {
   "cell_type": "code",
   "execution_count": 18,
   "id": "b816118a-fdb2-4bbc-ad95-fb20aa9c9d6d",
   "metadata": {
    "tags": []
   },
   "outputs": [
    {
     "data": {
      "text/plain": [
       "builtin_function_or_method"
      ]
     },
     "execution_count": 18,
     "metadata": {},
     "output_type": "execute_result"
    }
   ],
   "source": [
    "type(a.tolist)"
   ]
  },
  {
   "cell_type": "code",
   "execution_count": 19,
   "id": "119be92b-2afe-4935-b3cb-dbd95d63e5ee",
   "metadata": {
    "tags": []
   },
   "outputs": [
    {
     "name": "stdout",
     "output_type": "stream",
     "text": [
      "Help on built-in function print in module builtins:\n",
      "\n",
      "print(...)\n",
      "    print(value, ..., sep=' ', end='\\n', file=sys.stdout, flush=False)\n",
      "    \n",
      "    Prints the values to a stream, or to sys.stdout by default.\n",
      "    Optional keyword arguments:\n",
      "    file:  a file-like object (stream); defaults to the current sys.stdout.\n",
      "    sep:   string inserted between values, default a space.\n",
      "    end:   string appended after the last value, default a newline.\n",
      "    flush: whether to forcibly flush the stream.\n",
      "\n"
     ]
    }
   ],
   "source": [
    "help(print)"
   ]
  },
  {
   "cell_type": "markdown",
   "id": "aea4b20a-2882-4e0d-ad3a-554eac6e7a08",
   "metadata": {},
   "source": [
    "1.) optional argument (defaults to a space)\n"
   ]
  },
  {
   "cell_type": "code",
   "execution_count": 20,
   "id": "503a2231-ef6c-48ef-8ec1-56e999cb9e38",
   "metadata": {
    "tags": []
   },
   "outputs": [],
   "source": [
    "seventy_seven = 77\n",
    "\n",
    "nintey_nine = '99'"
   ]
  },
  {
   "cell_type": "code",
   "execution_count": 21,
   "id": "7df3866e-8180-4adc-921e-6e1bc5ae4337",
   "metadata": {
    "tags": []
   },
   "outputs": [
    {
     "data": {
      "text/plain": [
       "int"
      ]
     },
     "execution_count": 21,
     "metadata": {},
     "output_type": "execute_result"
    }
   ],
   "source": [
    "type(seventy_seven)"
   ]
  },
  {
   "cell_type": "code",
   "execution_count": 22,
   "id": "7b9ec4e6-dba4-40c0-84f3-4ded3c93e70f",
   "metadata": {
    "tags": []
   },
   "outputs": [
    {
     "data": {
      "text/plain": [
       "str"
      ]
     },
     "execution_count": 22,
     "metadata": {},
     "output_type": "execute_result"
    }
   ],
   "source": [
    "type(nintey_nine)"
   ]
  },
  {
   "cell_type": "code",
   "execution_count": 26,
   "id": "25a2410a-a5db-4135-86f0-e2022d1b98fd",
   "metadata": {
    "tags": []
   },
   "outputs": [
    {
     "name": "stdout",
     "output_type": "stream",
     "text": [
      "77%99%77\n"
     ]
    }
   ],
   "source": [
    "print(seventy_seven, '%', nintey_nine, '%', seventy_seven, sep= '')"
   ]
  },
  {
   "cell_type": "code",
   "execution_count": null,
   "id": "3ef6d7ef-9202-443a-8e31-b5d5397917a8",
   "metadata": {},
   "outputs": [],
   "source": []
  }
 ],
 "metadata": {
  "kernelspec": {
   "display_name": "Anaconda 3 (Base)",
   "language": "python",
   "name": "base"
  },
  "language_info": {
   "codemirror_mode": {
    "name": "ipython",
    "version": 3
   },
   "file_extension": ".py",
   "mimetype": "text/x-python",
   "name": "python",
   "nbconvert_exporter": "python",
   "pygments_lexer": "ipython3",
   "version": "3.9.13"
  }
 },
 "nbformat": 4,
 "nbformat_minor": 5
}
