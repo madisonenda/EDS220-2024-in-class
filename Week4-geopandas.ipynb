{
 "cells": [
  {
   "cell_type": "markdown",
   "id": "1f765667-b2ef-46d9-a02d-5160960b184c",
   "metadata": {},
   "source": [
    "# `geopandas` \n",
    "\n",
    "GeoPandas is a Pyton library that extends the capabilities of the pandas library to work with spatial data.\n",
    "\n",
    "## Reproducible file paths\n",
    "\n",
    "Let's import the packages we'll be working with:\n"
   ]
  },
  {
   "cell_type": "code",
   "execution_count": 3,
   "id": "d5d95846-ff94-4d3f-8aaa-ffba85ae2ac8",
   "metadata": {
    "tags": []
   },
   "outputs": [],
   "source": [
    "import os \n",
    "import geopandas as gpd\n",
    "import matplotlib.pyplot as plt"
   ]
  },
  {
   "cell_type": "code",
   "execution_count": 12,
   "id": "9a961b93-5d8c-439b-86f2-efdaa783a52e",
   "metadata": {
    "tags": []
   },
   "outputs": [
    {
     "data": {
      "text/plain": [
       "'data/gbif_sus-scrofa_california/gbif_sus_scrofa_california.shp'"
      ]
     },
     "execution_count": 12,
     "metadata": {},
     "output_type": "execute_result"
    }
   ],
   "source": [
    "fp= os.path.join('data', 'gbif_sus-scrofa_california', 'gbif_sus_scrofa_california.shp')\n",
    "fp"
   ]
  },
  {
   "cell_type": "markdown",
   "id": "a059c380-2fd4-4b4c-83cd-ea0a06620978",
   "metadata": {},
   "source": [
    "We can use this file path to import the shapefile using `geopandas.read_file()` function:"
   ]
  },
  {
   "cell_type": "code",
   "execution_count": 13,
   "id": "8eb40850-e008-4db9-bc88-2a2e24480e85",
   "metadata": {
    "tags": []
   },
   "outputs": [
    {
     "data": {
      "text/html": [
       "<div>\n",
       "<style scoped>\n",
       "    .dataframe tbody tr th:only-of-type {\n",
       "        vertical-align: middle;\n",
       "    }\n",
       "\n",
       "    .dataframe tbody tr th {\n",
       "        vertical-align: top;\n",
       "    }\n",
       "\n",
       "    .dataframe thead th {\n",
       "        text-align: right;\n",
       "    }\n",
       "</style>\n",
       "<table border=\"1\" class=\"dataframe\">\n",
       "  <thead>\n",
       "    <tr style=\"text-align: right;\">\n",
       "      <th></th>\n",
       "      <th>gbifID</th>\n",
       "      <th>species</th>\n",
       "      <th>state</th>\n",
       "      <th>individual</th>\n",
       "      <th>day</th>\n",
       "      <th>month</th>\n",
       "      <th>year</th>\n",
       "      <th>inst</th>\n",
       "      <th>collection</th>\n",
       "      <th>catalogNum</th>\n",
       "      <th>identified</th>\n",
       "      <th>geometry</th>\n",
       "    </tr>\n",
       "  </thead>\n",
       "  <tbody>\n",
       "    <tr>\n",
       "      <th>0</th>\n",
       "      <td>899953814</td>\n",
       "      <td>Sus scrofa</td>\n",
       "      <td>California</td>\n",
       "      <td>NaN</td>\n",
       "      <td>22.0</td>\n",
       "      <td>3.0</td>\n",
       "      <td>2014.0</td>\n",
       "      <td>iNaturalist</td>\n",
       "      <td>Observations</td>\n",
       "      <td>581956</td>\n",
       "      <td>edwardrooks</td>\n",
       "      <td>POINT (-121.53812 37.08846)</td>\n",
       "    </tr>\n",
       "    <tr>\n",
       "      <th>1</th>\n",
       "      <td>899951348</td>\n",
       "      <td>Sus scrofa</td>\n",
       "      <td>California</td>\n",
       "      <td>NaN</td>\n",
       "      <td>9.0</td>\n",
       "      <td>6.0</td>\n",
       "      <td>2007.0</td>\n",
       "      <td>iNaturalist</td>\n",
       "      <td>Observations</td>\n",
       "      <td>576047</td>\n",
       "      <td>Bruce Freeman</td>\n",
       "      <td>POINT (-120.54942 35.47354)</td>\n",
       "    </tr>\n",
       "    <tr>\n",
       "      <th>2</th>\n",
       "      <td>896560733</td>\n",
       "      <td>Sus scrofa</td>\n",
       "      <td>California</td>\n",
       "      <td>NaN</td>\n",
       "      <td>20.0</td>\n",
       "      <td>12.0</td>\n",
       "      <td>1937.0</td>\n",
       "      <td>MVZ</td>\n",
       "      <td>Hild</td>\n",
       "      <td>MVZ:Hild:195</td>\n",
       "      <td>Museum of Vertebrate Zoology, University of Ca...</td>\n",
       "      <td>POINT (-122.27063 37.87610)</td>\n",
       "    </tr>\n",
       "    <tr>\n",
       "      <th>3</th>\n",
       "      <td>896559958</td>\n",
       "      <td>Sus scrofa</td>\n",
       "      <td>California</td>\n",
       "      <td>NaN</td>\n",
       "      <td>1.0</td>\n",
       "      <td>4.0</td>\n",
       "      <td>1969.0</td>\n",
       "      <td>MVZ</td>\n",
       "      <td>Hild</td>\n",
       "      <td>MVZ:Hild:1213</td>\n",
       "      <td>Museum of Vertebrate Zoology, University of Ca...</td>\n",
       "      <td>POINT (-121.82297 38.44543)</td>\n",
       "    </tr>\n",
       "    <tr>\n",
       "      <th>4</th>\n",
       "      <td>896559722</td>\n",
       "      <td>Sus scrofa</td>\n",
       "      <td>California</td>\n",
       "      <td>NaN</td>\n",
       "      <td>1.0</td>\n",
       "      <td>1.0</td>\n",
       "      <td>1961.0</td>\n",
       "      <td>MVZ</td>\n",
       "      <td>Hild</td>\n",
       "      <td>MVZ:Hild:1004</td>\n",
       "      <td>Museum of Vertebrate Zoology, University of Ca...</td>\n",
       "      <td>POINT (-121.74559 38.54882)</td>\n",
       "    </tr>\n",
       "    <tr>\n",
       "      <th>...</th>\n",
       "      <td>...</td>\n",
       "      <td>...</td>\n",
       "      <td>...</td>\n",
       "      <td>...</td>\n",
       "      <td>...</td>\n",
       "      <td>...</td>\n",
       "      <td>...</td>\n",
       "      <td>...</td>\n",
       "      <td>...</td>\n",
       "      <td>...</td>\n",
       "      <td>...</td>\n",
       "      <td>...</td>\n",
       "    </tr>\n",
       "    <tr>\n",
       "      <th>1041</th>\n",
       "      <td>1024216143</td>\n",
       "      <td>Sus scrofa</td>\n",
       "      <td>California</td>\n",
       "      <td>NaN</td>\n",
       "      <td>24.0</td>\n",
       "      <td>8.0</td>\n",
       "      <td>2014.0</td>\n",
       "      <td>iNaturalist</td>\n",
       "      <td>Observations</td>\n",
       "      <td>848609</td>\n",
       "      <td>sea-kangaroo</td>\n",
       "      <td>POINT (-121.71341 37.34271)</td>\n",
       "    </tr>\n",
       "    <tr>\n",
       "      <th>1042</th>\n",
       "      <td>1024215805</td>\n",
       "      <td>Sus scrofa</td>\n",
       "      <td>California</td>\n",
       "      <td>NaN</td>\n",
       "      <td>24.0</td>\n",
       "      <td>8.0</td>\n",
       "      <td>2014.0</td>\n",
       "      <td>iNaturalist</td>\n",
       "      <td>Observations</td>\n",
       "      <td>847708</td>\n",
       "      <td>Donna Pomeroy</td>\n",
       "      <td>POINT (-121.71871 37.34467)</td>\n",
       "    </tr>\n",
       "    <tr>\n",
       "      <th>1043</th>\n",
       "      <td>1024215159</td>\n",
       "      <td>Sus scrofa</td>\n",
       "      <td>California</td>\n",
       "      <td>NaN</td>\n",
       "      <td>23.0</td>\n",
       "      <td>8.0</td>\n",
       "      <td>2014.0</td>\n",
       "      <td>iNaturalist</td>\n",
       "      <td>Observations</td>\n",
       "      <td>845949</td>\n",
       "      <td>Alyssa Semerdjian</td>\n",
       "      <td>POINT (-120.18419 35.39745)</td>\n",
       "    </tr>\n",
       "    <tr>\n",
       "      <th>1044</th>\n",
       "      <td>1019052419</td>\n",
       "      <td>Sus scrofa</td>\n",
       "      <td>California</td>\n",
       "      <td>2.0</td>\n",
       "      <td>18.0</td>\n",
       "      <td>9.0</td>\n",
       "      <td>1998.0</td>\n",
       "      <td>Borror Laboratory of Bioacoustics, Ohio State ...</td>\n",
       "      <td>Recordings</td>\n",
       "      <td>BLB30714</td>\n",
       "      <td>None</td>\n",
       "      <td>POINT (-119.55190 34.04810)</td>\n",
       "    </tr>\n",
       "    <tr>\n",
       "      <th>1045</th>\n",
       "      <td>1019052401</td>\n",
       "      <td>Sus scrofa</td>\n",
       "      <td>California</td>\n",
       "      <td>2.0</td>\n",
       "      <td>18.0</td>\n",
       "      <td>9.0</td>\n",
       "      <td>1998.0</td>\n",
       "      <td>Borror Laboratory of Bioacoustics, Ohio State ...</td>\n",
       "      <td>Recordings</td>\n",
       "      <td>BLB30713</td>\n",
       "      <td>None</td>\n",
       "      <td>POINT (-119.55190 34.04810)</td>\n",
       "    </tr>\n",
       "  </tbody>\n",
       "</table>\n",
       "<p>1046 rows × 12 columns</p>\n",
       "</div>"
      ],
      "text/plain": [
       "          gbifID     species       state  individual   day  month    year  \\\n",
       "0      899953814  Sus scrofa  California         NaN  22.0    3.0  2014.0   \n",
       "1      899951348  Sus scrofa  California         NaN   9.0    6.0  2007.0   \n",
       "2      896560733  Sus scrofa  California         NaN  20.0   12.0  1937.0   \n",
       "3      896559958  Sus scrofa  California         NaN   1.0    4.0  1969.0   \n",
       "4      896559722  Sus scrofa  California         NaN   1.0    1.0  1961.0   \n",
       "...          ...         ...         ...         ...   ...    ...     ...   \n",
       "1041  1024216143  Sus scrofa  California         NaN  24.0    8.0  2014.0   \n",
       "1042  1024215805  Sus scrofa  California         NaN  24.0    8.0  2014.0   \n",
       "1043  1024215159  Sus scrofa  California         NaN  23.0    8.0  2014.0   \n",
       "1044  1019052419  Sus scrofa  California         2.0  18.0    9.0  1998.0   \n",
       "1045  1019052401  Sus scrofa  California         2.0  18.0    9.0  1998.0   \n",
       "\n",
       "                                                   inst    collection  \\\n",
       "0                                           iNaturalist  Observations   \n",
       "1                                           iNaturalist  Observations   \n",
       "2                                                   MVZ          Hild   \n",
       "3                                                   MVZ          Hild   \n",
       "4                                                   MVZ          Hild   \n",
       "...                                                 ...           ...   \n",
       "1041                                        iNaturalist  Observations   \n",
       "1042                                        iNaturalist  Observations   \n",
       "1043                                        iNaturalist  Observations   \n",
       "1044  Borror Laboratory of Bioacoustics, Ohio State ...    Recordings   \n",
       "1045  Borror Laboratory of Bioacoustics, Ohio State ...    Recordings   \n",
       "\n",
       "         catalogNum                                         identified  \\\n",
       "0            581956                                        edwardrooks   \n",
       "1            576047                                      Bruce Freeman   \n",
       "2      MVZ:Hild:195  Museum of Vertebrate Zoology, University of Ca...   \n",
       "3     MVZ:Hild:1213  Museum of Vertebrate Zoology, University of Ca...   \n",
       "4     MVZ:Hild:1004  Museum of Vertebrate Zoology, University of Ca...   \n",
       "...             ...                                                ...   \n",
       "1041         848609                                       sea-kangaroo   \n",
       "1042         847708                                      Donna Pomeroy   \n",
       "1043         845949                                  Alyssa Semerdjian   \n",
       "1044       BLB30714                                               None   \n",
       "1045       BLB30713                                               None   \n",
       "\n",
       "                         geometry  \n",
       "0     POINT (-121.53812 37.08846)  \n",
       "1     POINT (-120.54942 35.47354)  \n",
       "2     POINT (-122.27063 37.87610)  \n",
       "3     POINT (-121.82297 38.44543)  \n",
       "4     POINT (-121.74559 38.54882)  \n",
       "...                           ...  \n",
       "1041  POINT (-121.71341 37.34271)  \n",
       "1042  POINT (-121.71871 37.34467)  \n",
       "1043  POINT (-120.18419 35.39745)  \n",
       "1044  POINT (-119.55190 34.04810)  \n",
       "1045  POINT (-119.55190 34.04810)  \n",
       "\n",
       "[1046 rows x 12 columns]"
      ]
     },
     "execution_count": 13,
     "metadata": {},
     "output_type": "execute_result"
    }
   ],
   "source": [
    "pigs= gpd.read_file(fp)\n",
    "pigs"
   ]
  },
  {
   "cell_type": "code",
   "execution_count": 18,
   "id": "2f472b23-4d5b-494f-9a6b-f7f1c0454a4d",
   "metadata": {
    "tags": []
   },
   "outputs": [
    {
     "data": {
      "text/plain": [
       "'data/california_state_boundary/ca_state_boundary.shp'"
      ]
     },
     "execution_count": 18,
     "metadata": {},
     "output_type": "execute_result"
    }
   ],
   "source": [
    "fp_ca= os.path.join('data', 'california_state_boundary', 'ca_state_boundary.shp')\n",
    "fp_ca"
   ]
  },
  {
   "cell_type": "code",
   "execution_count": 19,
   "id": "ec511a45-03cd-4087-ba1b-37e7016d0914",
   "metadata": {
    "tags": []
   },
   "outputs": [
    {
     "data": {
      "text/html": [
       "<div>\n",
       "<style scoped>\n",
       "    .dataframe tbody tr th:only-of-type {\n",
       "        vertical-align: middle;\n",
       "    }\n",
       "\n",
       "    .dataframe tbody tr th {\n",
       "        vertical-align: top;\n",
       "    }\n",
       "\n",
       "    .dataframe thead th {\n",
       "        text-align: right;\n",
       "    }\n",
       "</style>\n",
       "<table border=\"1\" class=\"dataframe\">\n",
       "  <thead>\n",
       "    <tr style=\"text-align: right;\">\n",
       "      <th></th>\n",
       "      <th>REGION</th>\n",
       "      <th>DIVISION</th>\n",
       "      <th>STATEFP</th>\n",
       "      <th>STATENS</th>\n",
       "      <th>GEOID</th>\n",
       "      <th>STUSPS</th>\n",
       "      <th>NAME</th>\n",
       "      <th>LSAD</th>\n",
       "      <th>MTFCC</th>\n",
       "      <th>FUNCSTAT</th>\n",
       "      <th>ALAND</th>\n",
       "      <th>AWATER</th>\n",
       "      <th>INTPTLAT</th>\n",
       "      <th>INTPTLON</th>\n",
       "      <th>geometry</th>\n",
       "    </tr>\n",
       "  </thead>\n",
       "  <tbody>\n",
       "    <tr>\n",
       "      <th>0</th>\n",
       "      <td>4</td>\n",
       "      <td>9</td>\n",
       "      <td>06</td>\n",
       "      <td>01779778</td>\n",
       "      <td>06</td>\n",
       "      <td>CA</td>\n",
       "      <td>California</td>\n",
       "      <td>00</td>\n",
       "      <td>G4000</td>\n",
       "      <td>A</td>\n",
       "      <td>403501101370</td>\n",
       "      <td>20466718403</td>\n",
       "      <td>+37.1551773</td>\n",
       "      <td>-119.5434183</td>\n",
       "      <td>MULTIPOLYGON (((-119.63473 33.26545, -119.6363...</td>\n",
       "    </tr>\n",
       "  </tbody>\n",
       "</table>\n",
       "</div>"
      ],
      "text/plain": [
       "  REGION DIVISION STATEFP   STATENS GEOID STUSPS        NAME LSAD  MTFCC  \\\n",
       "0      4        9      06  01779778    06     CA  California   00  G4000   \n",
       "\n",
       "  FUNCSTAT         ALAND       AWATER     INTPTLAT      INTPTLON  \\\n",
       "0        A  403501101370  20466718403  +37.1551773  -119.5434183   \n",
       "\n",
       "                                            geometry  \n",
       "0  MULTIPOLYGON (((-119.63473 33.26545, -119.6363...  "
      ]
     },
     "execution_count": 19,
     "metadata": {},
     "output_type": "execute_result"
    }
   ],
   "source": [
    "ca_boundary= gpd.read_file(fp_ca)\n",
    "ca_boundary"
   ]
  },
  {
   "cell_type": "markdown",
   "id": "74b90834-a00e-45bc-b71b-8ea13da1cf92",
   "metadata": {},
   "source": [
    "## GeoSeries and GeoDataFrames\n",
    "\n",
    "`gpd.GeoDataFrame`= `pandas.Dataframe` + geometry column\n",
    "\n",
    "At the end of the `pandas.Series` on the normal data frame is a geometries column (`geopandas.geoseries.GeoSeries`) tacked on to the end"
   ]
  },
  {
   "cell_type": "code",
   "execution_count": 20,
   "id": "dc13557e-276a-4e02-940c-e081403dc689",
   "metadata": {
    "tags": []
   },
   "outputs": [
    {
     "name": "stdout",
     "output_type": "stream",
     "text": [
      "<class 'geopandas.geodataframe.GeoDataFrame'>\n",
      "<class 'geopandas.geoseries.GeoSeries'>\n",
      "<class 'pandas.core.series.Series'>\n"
     ]
    }
   ],
   "source": [
    "# Check what kind of object pigs is\n",
    "print(type(pigs))\n",
    "\n",
    "# Check what kind of object is in the geometry column\n",
    "print(type(pigs.geometry))\n",
    "\n",
    "# Check what kind of object is in the species column\n",
    "print(type(pigs.species))"
   ]
  },
  {
   "cell_type": "code",
   "execution_count": 21,
   "id": "dabeb486-6847-4f7a-9a63-051d77c5f417",
   "metadata": {
    "tags": []
   },
   "outputs": [
    {
     "data": {
      "text/plain": [
       "gbifID           int64\n",
       "species         object\n",
       "state           object\n",
       "individual     float64\n",
       "day            float64\n",
       "month          float64\n",
       "year           float64\n",
       "inst            object\n",
       "collection      object\n",
       "catalogNum      object\n",
       "identified      object\n",
       "geometry      geometry\n",
       "dtype: object"
      ]
     },
     "execution_count": 21,
     "metadata": {},
     "output_type": "execute_result"
    }
   ],
   "source": [
    "pigs.dtypes"
   ]
  },
  {
   "cell_type": "markdown",
   "id": "26b0a26e-5a7c-4f97-a744-919ec455bfd2",
   "metadata": {},
   "source": [
    "## Check-in \n",
    "what is the geometry type of the single feature in the CA state boundary? Why does it make sense to have this kind of geometry?\n"
   ]
  },
  {
   "cell_type": "code",
   "execution_count": 25,
   "id": "bb61287f-f828-48bb-9e0d-ec2d4de67590",
   "metadata": {
    "tags": []
   },
   "outputs": [
    {
     "data": {
      "text/plain": [
       "0    MultiPolygon\n",
       "dtype: object"
      ]
     },
     "execution_count": 25,
     "metadata": {},
     "output_type": "execute_result"
    }
   ],
   "source": [
    "# Using .geom_type to find geometry info\n",
    "ca_boundary.geom_type"
   ]
  },
  {
   "cell_type": "code",
   "execution_count": 23,
   "id": "1244d73c-0c92-4e4e-a3ec-857dd4543f88",
   "metadata": {
    "tags": []
   },
   "outputs": [
    {
     "name": "stdout",
     "output_type": "stream",
     "text": [
      "<class 'geopandas.geoseries.GeoSeries'>\n"
     ]
    }
   ],
   "source": [
    "print(type(ca_boundary.geometry))"
   ]
  },
  {
   "cell_type": "markdown",
   "id": "d9944e4d-9741-4fd3-be57-f8312bd86bed",
   "metadata": {},
   "source": [
    "## CRS and extend\n",
    "\n",
    "CRS= coordinate reference system (one of the most important base components of visualizing geospatial data)\n",
    "\n",
    "The CRS is the instruction manual for how we locate each spatial feature of our data frame on the surface of the earth"
   ]
  },
  {
   "cell_type": "code",
   "execution_count": 26,
   "id": "753da087-19e7-483f-ba7f-61861e350764",
   "metadata": {
    "tags": []
   },
   "outputs": [
    {
     "data": {
      "text/plain": [
       "<Geographic 2D CRS: EPSG:4326>\n",
       "Name: WGS 84\n",
       "Axis Info [ellipsoidal]:\n",
       "- Lat[north]: Geodetic latitude (degree)\n",
       "- Lon[east]: Geodetic longitude (degree)\n",
       "Area of Use:\n",
       "- name: World.\n",
       "- bounds: (-180.0, -90.0, 180.0, 90.0)\n",
       "Datum: World Geodetic System 1984 ensemble\n",
       "- Ellipsoid: WGS 84\n",
       "- Prime Meridian: Greenwich"
      ]
     },
     "execution_count": 26,
     "metadata": {},
     "output_type": "execute_result"
    }
   ],
   "source": [
    "# Access the CRS of the GeoDataFrame\n",
    "pigs.crs"
   ]
  },
  {
   "cell_type": "code",
   "execution_count": 27,
   "id": "35a03ed5-7a96-4077-b861-e88432f4e21f",
   "metadata": {
    "tags": []
   },
   "outputs": [
    {
     "name": "stdout",
     "output_type": "stream",
     "text": [
      "ellipsoid:  WGS 84\n",
      "datum:  World Geodetic System 1984 ensemble\n",
      "is geographic?  True\n",
      "is projected?  False\n"
     ]
    }
   ],
   "source": [
    "# Get more info about CRS\n",
    "print('ellipsoid: ', pigs.crs.ellipsoid)\n",
    "print('datum: ', pigs.crs.datum)\n",
    "print('is geographic? ', pigs.crs.is_geographic)\n",
    "print('is projected? ', pigs.crs.is_projected)"
   ]
  },
  {
   "cell_type": "markdown",
   "id": "e9b7bb03-cdc4-4bde-8de3-1e2110f31587",
   "metadata": {},
   "source": [
    "## What is the extent?\n",
    "\n",
    "Extent = bounding box (essentially lol)"
   ]
  },
  {
   "cell_type": "code",
   "execution_count": 28,
   "id": "d641631c-f87a-4de5-8295-c206bcdf9113",
   "metadata": {
    "tags": []
   },
   "outputs": [
    {
     "data": {
      "text/plain": [
       "array([-124.29448 ,   32.593433, -115.4356  ,   40.934296])"
      ]
     },
     "execution_count": 28,
     "metadata": {},
     "output_type": "execute_result"
    }
   ],
   "source": [
    "# Obtain the geographic extent of the geo-dataframe\n",
    "pigs.total_bounds"
   ]
  },
  {
   "cell_type": "markdown",
   "id": "af6f73ff-2561-4734-a1f5-be8ef1bc7032",
   "metadata": {},
   "source": [
    "## Check-in:\n",
    "\n",
    "Print the CRS and extent for the CA boundary. Are both geodataframes in the same CRS?\n"
   ]
  },
  {
   "cell_type": "code",
   "execution_count": 30,
   "id": "26857221-b45e-4be6-a826-c9415e8cda1f",
   "metadata": {
    "tags": []
   },
   "outputs": [
    {
     "data": {
      "text/plain": [
       "<Geographic 2D CRS: EPSG:4326>\n",
       "Name: WGS 84\n",
       "Axis Info [ellipsoidal]:\n",
       "- Lat[north]: Geodetic latitude (degree)\n",
       "- Lon[east]: Geodetic longitude (degree)\n",
       "Area of Use:\n",
       "- name: World.\n",
       "- bounds: (-180.0, -90.0, 180.0, 90.0)\n",
       "Datum: World Geodetic System 1984 ensemble\n",
       "- Ellipsoid: WGS 84\n",
       "- Prime Meridian: Greenwich"
      ]
     },
     "execution_count": 30,
     "metadata": {},
     "output_type": "execute_result"
    }
   ],
   "source": [
    "ca_boundary.crs"
   ]
  },
  {
   "cell_type": "code",
   "execution_count": 31,
   "id": "5063262a-a4ad-46fe-aa38-937fad60b628",
   "metadata": {
    "tags": []
   },
   "outputs": [
    {
     "data": {
      "text/plain": [
       "array([-124.48201686,   32.52883674, -114.13122248,   42.00950827])"
      ]
     },
     "execution_count": 31,
     "metadata": {},
     "output_type": "execute_result"
    }
   ],
   "source": [
    "ca_boundary.total_bounds"
   ]
  },
  {
   "cell_type": "code",
   "execution_count": 32,
   "id": "154cf167-d1ae-4c9e-86a8-e5e6f06a0656",
   "metadata": {
    "tags": []
   },
   "outputs": [
    {
     "data": {
      "text/plain": [
       "True"
      ]
     },
     "execution_count": 32,
     "metadata": {},
     "output_type": "execute_result"
    }
   ],
   "source": [
    "pigs.crs == ca_boundary.crs"
   ]
  },
  {
   "cell_type": "markdown",
   "id": "ab23f3a3-ec5b-4b0d-a6ee-3d15842559d1",
   "metadata": {},
   "source": [
    "## Data wrangling:\n",
    "\n",
    "Since `geopandas` is built on top of `pandas`, we may use everything we have learned about `pandas.DataFrames` to wrangle geo-dataframes.\n",
    "\n",
    "Example:\n",
    "\n",
    "We only want to use recent data for wild pig observations."
   ]
  },
  {
   "cell_type": "code",
   "execution_count": 34,
   "id": "5803e5b7-ae11-4863-9b3a-9556fab369f9",
   "metadata": {
    "tags": []
   },
   "outputs": [
    {
     "data": {
      "text/plain": [
       "1818.0     31\n",
       "1910.0      1\n",
       "1925.0      1\n",
       "1927.0      4\n",
       "1929.0      3\n",
       "         ... \n",
       "2019.0    101\n",
       "2020.0    159\n",
       "2021.0    164\n",
       "2022.0    185\n",
       "2023.0     98\n",
       "Name: year, Length: 61, dtype: int64"
      ]
     },
     "execution_count": 34,
     "metadata": {},
     "output_type": "execute_result"
    }
   ],
   "source": [
    "# Examine pig observations by year\n",
    "pigs.year.value_counts().sort_index()\n"
   ]
  },
  {
   "cell_type": "code",
   "execution_count": 36,
   "id": "932eff4a-d670-4cb8-849d-7333f5199943",
   "metadata": {
    "tags": []
   },
   "outputs": [
    {
     "name": "stdout",
     "output_type": "stream",
     "text": [
      "Total length of observations 1046\n",
      "Number of observations since 2020 606\n"
     ]
    }
   ],
   "source": [
    "# Select data from 2020 onwards\n",
    "pigs_recent= pigs[pigs.year>=2020]\n",
    "\n",
    "# Check the length or original data frame versus new one\n",
    "print('Total length of observations', len(pigs))\n",
    "\n",
    "print('Number of observations since 2020', len(pigs_recent))"
   ]
  },
  {
   "cell_type": "code",
   "execution_count": 37,
   "id": "dff080c5-fa4d-4826-bf68-cca115e80c1f",
   "metadata": {
    "tags": []
   },
   "outputs": [
    {
     "data": {
      "text/plain": [
       "<AxesSubplot:>"
      ]
     },
     "execution_count": 37,
     "metadata": {},
     "output_type": "execute_result"
    },
    {
     "data": {
      "image/png": "[encoded data removed]",
      "text/plain": [
       "<Figure size 640x480 with 1 Axes>"
      ]
     },
     "metadata": {},
     "output_type": "display_data"
    }
   ],
   "source": [
    "pigs_recent.plot()"
   ]
  },
  {
   "cell_type": "markdown",
   "id": "1759057e-aa79-41ae-b9e9-26c3939d8d02",
   "metadata": {},
   "source": [
    "## matplotlib\n",
    "Has both x and y axis for both plots, and the figure boundaries are separate from the axes boundaries for each plot"
   ]
  },
  {
   "cell_type": "code",
   "execution_count": 38,
   "id": "24c2502d-da16-4357-93c8-ff2ace770df6",
   "metadata": {
    "tags": []
   },
   "outputs": [
    {
     "data": {
      "image/png": "[encoded data removed]",
      "text/plain": [
       "<Figure size 640x480 with 1 Axes>"
      ]
     },
     "metadata": {},
     "output_type": "display_data"
    }
   ],
   "source": [
    "# Initialize an empty figure (fig) and axes (ax)\n",
    "fig, ax= plt.subplots()\n",
    "\n",
    "plt.show()"
   ]
  },
  {
   "cell_type": "code",
   "execution_count": 40,
   "id": "157c827d-56d5-4d51-8cbc-6f4ad455515b",
   "metadata": {
    "tags": []
   },
   "outputs": [
    {
     "data": {
      "image/png": "[encoded data removed]",
      "text/plain": [
       "<Figure size 640x480 with 1 Axes>"
      ]
     },
     "metadata": {},
     "output_type": "display_data"
    }
   ],
   "source": [
    "## Add multiple layers to our plot\n",
    "fig, ax= plt.subplots()\n",
    "\n",
    "# Add california boundary\n",
    "ca_boundary.plot(ax=ax,\n",
    "                color= 'none',\n",
    "                edgecolor= 'black')\n",
    "\n",
    "# Add pigs data from 2020\n",
    "pigs_recent.plot(ax=ax)\n",
    "\n",
    "plt.show()"
   ]
  },
  {
   "cell_type": "code",
   "execution_count": null,
   "id": "5e1d8231-233b-4473-9b83-9cf59e50cb36",
   "metadata": {},
   "outputs": [],
   "source": []
  }
 ],
 "metadata": {
  "kernelspec": {
   "display_name": "Anaconda 3 (Base)",
   "language": "python",
   "name": "base"
  },
  "language_info": {
   "codemirror_mode": {
    "name": "ipython",
    "version": 3
   },
   "file_extension": ".py",
   "mimetype": "text/x-python",
   "name": "python",
   "nbconvert_exporter": "python",
   "pygments_lexer": "ipython3",
   "version": "3.9.13"
  }
 },
 "nbformat": 4,
 "nbformat_minor": 5
}
